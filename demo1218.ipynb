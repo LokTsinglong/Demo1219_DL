{
 "cells": [
  {
   "cell_type": "code",
   "execution_count": 1,
   "id": "d4956d08-4e9b-45ea-8449-e8bba3757a52",
   "metadata": {},
   "outputs": [],
   "source": [
    "import numpy as np\n",
    "import pandas as pd"
   ]
  },
  {
   "cell_type": "code",
   "execution_count": 3,
   "id": "f3953500-a265-4c2f-84b3-a97abd3ae53a",
   "metadata": {},
   "outputs": [],
   "source": [
    "def init_network():#定义初始化的神经网络参数\n",
    "    network={}#创建一个空字典\n",
    "    network['W1']=np.array([[0.1,0.3,0.5],[0.2,0.4,0.6]])\n",
    "    network['b1']=np.array([0.1,0.2,0.3])\n",
    "    network['W2']=np.array([[0.1,0.4],[0.2,0.5],[0.3,0.6]])\n",
    "    network['b2']=np.array([0.1,0.2])\n",
    "    network['W3']=np.array([[0.1,0.3],[0.2,0.4]])\n",
    "    network['b3']=np.array([0.1,0.2])\n",
    "    return network"
   ]
  },
  {
   "cell_type": "code",
   "execution_count": 5,
   "id": "62dc8acd-e6e6-434d-9107-067900b7dc24",
   "metadata": {},
   "outputs": [],
   "source": [
    "def sigmoid(x):# the input x is row vector\n",
    "    return 1/(1+np.exp(-x))\n",
    "def identity_function(x):\n",
    "    return x #return itself"
   ]
  },
  {
   "cell_type": "code",
   "execution_count": 9,
   "id": "ecc61663-8c9c-4863-b609-552796a6d566",
   "metadata": {},
   "outputs": [],
   "source": [
    "def forward(network,x):#需要传入参数 network代表权重和偏置参数的字典 x代表输入层的数据 是一个列向量\n",
    "    W1,W2,W3=network['W1'],network['W2'],network['W3']\n",
    "    b1,b2,b3=network['b1'],network['b2'],network['b3']\n",
    "    a1=np.dot(x,W1)+b1 #x是一个1*2 Matrix, W1 is a 2*3 Matrix, check before you use it! Very important!!\n",
    "    Z1=sigmoid(a1)# from the input layer to the first hidden neuron layer\n",
    "    a2=np.dot(Z1,W2)+b2 #Z1 is a 1*3 matrix, W2 is a 3*2 matrix\n",
    "    Z2=sigmoid(a2)#from the first hidden neuron layer to the second hidden neuron layer\n",
    "    a3=np.dot(Z2,W3)+b3 #Z2 is a 1*2 matrix and W3 is a 2*2 matrix\n",
    "    y=identity_function(a3) # from the second hidden neuron layer to the ouput layer\n",
    "    return y"
   ]
  },
  {
   "cell_type": "code",
   "execution_count": 13,
   "id": "cb749d98-848a-48d2-af62-6f2d0eeae8ea",
   "metadata": {},
   "outputs": [
    {
     "name": "stdout",
     "output_type": "stream",
     "text": [
      "[0.31682708 0.69627909]\n"
     ]
    }
   ],
   "source": [
    "network=init_network()\n",
    "x=np.array([1.0,0.5])\n",
    "y=forward(network,x)\n",
    "print(y)"
   ]
  },
  {
   "cell_type": "code",
   "execution_count": 17,
   "id": "91698893-e7d8-4524-ab4c-55b898f94d60",
   "metadata": {},
   "outputs": [
    {
     "name": "stdout",
     "output_type": "stream",
     "text": [
      "[  1.10517092  20.08553692 403.42879349]\n"
     ]
    }
   ],
   "source": [
    "a=np.array([0.1,3.0,6.0])\n",
    "exp_a=np.exp(a)\n",
    "print(exp_a)"
   ]
  },
  {
   "cell_type": "code",
   "execution_count": 21,
   "id": "24e11095-75cf-4800-8ae8-6a234498b763",
   "metadata": {},
   "outputs": [
    {
     "name": "stdout",
     "output_type": "stream",
     "text": [
      "424.6195013339984\n"
     ]
    }
   ],
   "source": [
    "sum_exp_a=np.sum(exp_a)\n",
    "print(sum_exp_a)"
   ]
  },
  {
   "cell_type": "code",
   "execution_count": 25,
   "id": "c3414371-0019-43f3-9981-8faf2553cb66",
   "metadata": {},
   "outputs": [
    {
     "name": "stdout",
     "output_type": "stream",
     "text": [
      "[0.00260273 0.04730244 0.95009483]\n"
     ]
    }
   ],
   "source": [
    "softmax_a = exp_a/sum_exp_a #some kind of proportion and the sum of the result is 1\n",
    "print(softmax_a)"
   ]
  },
  {
   "cell_type": "code",
   "execution_count": 27,
   "id": "d3ce5fb3-b13f-4f27-86cc-1231ae33d1f2",
   "metadata": {},
   "outputs": [],
   "source": [
    "def softmax(x):\n",
    "    exp_x=np.exp(x)\n",
    "    sum_exp_x=np.sum(exp_x)\n",
    "    softmax_x=exp_x/sum_exp_x\n",
    "    return softmax_x"
   ]
  },
  {
   "cell_type": "code",
   "execution_count": 29,
   "id": "31d09864-1d3c-417e-9551-183c1bd0b146",
   "metadata": {},
   "outputs": [
    {
     "name": "stdout",
     "output_type": "stream",
     "text": [
      "[nan nan nan]\n"
     ]
    },
    {
     "name": "stderr",
     "output_type": "stream",
     "text": [
      "C:\\Users\\loktsinglong\\AppData\\Local\\Temp\\ipykernel_27084\\843382947.py:2: RuntimeWarning: overflow encountered in exp\n",
      "  exp_x=np.exp(x)\n",
      "C:\\Users\\loktsinglong\\AppData\\Local\\Temp\\ipykernel_27084\\843382947.py:4: RuntimeWarning: invalid value encountered in divide\n",
      "  softmax_x=exp_x/sum_exp_x\n"
     ]
    }
   ],
   "source": [
    "#overflow consideration\n",
    "b=np.array([1000,1010,1020])\n",
    "y=softmax(b)\n",
    "print(y)#overflow encounteres"
   ]
  },
  {
   "cell_type": "code",
   "execution_count": 33,
   "id": "de01b285-9bd0-439d-a859-a5f32c0b7459",
   "metadata": {},
   "outputs": [
    {
     "name": "stderr",
     "output_type": "stream",
     "text": [
      "C:\\Users\\loktsinglong\\AppData\\Local\\Temp\\ipykernel_27084\\843382947.py:2: RuntimeWarning: overflow encountered in exp\n",
      "  exp_x=np.exp(x)\n",
      "C:\\Users\\loktsinglong\\AppData\\Local\\Temp\\ipykernel_27084\\843382947.py:4: RuntimeWarning: invalid value encountered in divide\n",
      "  softmax_x=exp_x/sum_exp_x\n"
     ]
    }
   ],
   "source": [
    "b_max=np.argmax(b)\n",
    "b_new=b-b_max\n",
    "y_new=softmax(b_new)"
   ]
  },
  {
   "cell_type": "code",
   "execution_count": 35,
   "id": "1f4bca37-7012-44e9-8480-32329155a450",
   "metadata": {},
   "outputs": [
    {
     "name": "stdout",
     "output_type": "stream",
     "text": [
      "[ 998 1008 1018]\n"
     ]
    }
   ],
   "source": [
    "print(b_new) # all are positive numbers"
   ]
  },
  {
   "cell_type": "code",
   "execution_count": 37,
   "id": "60152dd6-6f0f-45c4-92c9-4a75544963fe",
   "metadata": {},
   "outputs": [
    {
     "name": "stdout",
     "output_type": "stream",
     "text": [
      "2\n"
     ]
    }
   ],
   "source": [
    "print(b_max)# mistake！！！！ np.argmax returns the index of the max entry!! not the maximum number"
   ]
  },
  {
   "cell_type": "code",
   "execution_count": 41,
   "id": "8124e043-bacf-4f07-80cc-54e77e3d274e",
   "metadata": {},
   "outputs": [
    {
     "name": "stdout",
     "output_type": "stream",
     "text": [
      "[2.06106005e-09 4.53978686e-05 9.99954600e-01]\n"
     ]
    }
   ],
   "source": [
    "# we want to create some nagetive numbers to avoid the overflow problem\n",
    "b_max=np.max(b)\n",
    "b_new=b-b_max\n",
    "y_new=softmax(b_new)\n",
    "print(y_new) # very small quantity"
   ]
  },
  {
   "cell_type": "code",
   "execution_count": 43,
   "id": "899e0fcb-fc9d-4114-b8f2-0f1656c88f70",
   "metadata": {},
   "outputs": [
    {
     "name": "stdout",
     "output_type": "stream",
     "text": [
      "0.9999999999999999\n"
     ]
    }
   ],
   "source": [
    "y_sum=np.sum(y_new)\n",
    "print(y_sum)#actually the sum of these numbers are quite approximate to 1"
   ]
  },
  {
   "cell_type": "code",
   "execution_count": 51,
   "id": "fa7e35b4-b4b0-4a98-9933-68ead0dfff27",
   "metadata": {},
   "outputs": [],
   "source": [
    "#mnist project\n",
    "from sklearn.datasets import fetch_openml\n",
    "from sklearn.model_selection import train_test_split\n",
    "mnist=fetch_openml('mnist_784',version=1)\n",
    "X,y=mnist['data'],mnist['target']\n",
    "X_train,X_test,y_train,y_test = train_test_split(X,y,test_size=0.2,random_state=42)"
   ]
  },
  {
   "cell_type": "code",
   "execution_count": 53,
   "id": "9e6fcbf7-a0b7-449c-acef-c5dd295abe25",
   "metadata": {},
   "outputs": [
    {
     "data": {
      "text/plain": [
       "False"
      ]
     },
     "execution_count": 53,
     "metadata": {},
     "output_type": "execute_result"
    }
   ],
   "source": [
    "isinstance(mnist,pd.DataFrame)"
   ]
  },
  {
   "cell_type": "code",
   "execution_count": 55,
   "id": "5d231e27-d4e3-4b84-aad9-0706a3c13544",
   "metadata": {},
   "outputs": [
    {
     "data": {
      "text/plain": [
       "False"
      ]
     },
     "execution_count": 55,
     "metadata": {},
     "output_type": "execute_result"
    }
   ],
   "source": [
    "isinstance(mnist,pd.Series)"
   ]
  },
  {
   "cell_type": "code",
   "execution_count": 57,
   "id": "cb187c39-c4a7-49b4-a6ba-aed482bac0ce",
   "metadata": {},
   "outputs": [
    {
     "name": "stdout",
     "output_type": "stream",
     "text": [
      "<class 'sklearn.utils._bunch.Bunch'>\n"
     ]
    }
   ],
   "source": [
    "print(type(mnist))"
   ]
  },
  {
   "cell_type": "code",
   "execution_count": 59,
   "id": "6a09f615-0c40-4775-878e-0a68743652a0",
   "metadata": {},
   "outputs": [
    {
     "name": "stdout",
     "output_type": "stream",
     "text": [
      "<class 'pandas.core.frame.DataFrame'>\n"
     ]
    }
   ],
   "source": [
    "print(type(X))"
   ]
  },
  {
   "cell_type": "code",
   "execution_count": 61,
   "id": "c2ff16aa-48ed-45c5-8883-3748456b04f1",
   "metadata": {},
   "outputs": [
    {
     "name": "stdout",
     "output_type": "stream",
     "text": [
      "<class 'pandas.core.series.Series'>\n"
     ]
    }
   ],
   "source": [
    "print(type(y))"
   ]
  },
  {
   "cell_type": "code",
   "execution_count": 63,
   "id": "ffac37b9-04bf-4db8-81ba-2cd61ac26103",
   "metadata": {},
   "outputs": [
    {
     "name": "stdout",
     "output_type": "stream",
     "text": [
      "<class 'pandas.core.frame.DataFrame'>\n"
     ]
    }
   ],
   "source": [
    "print(type(X_train))"
   ]
  },
  {
   "cell_type": "code",
   "execution_count": 69,
   "id": "6f78f868-a66d-452f-8b82-e6be26db2dd1",
   "metadata": {},
   "outputs": [
    {
     "name": "stdout",
     "output_type": "stream",
     "text": [
      "(784,)\n",
      "<class 'pandas.core.series.Series'>\n"
     ]
    }
   ],
   "source": [
    "img=X_train.iloc[0] # the type of X_train is DataFrame so you have got to use loc[0]\n",
    "print(img.shape)\n",
    "print(type(img))"
   ]
  },
  {
   "cell_type": "code",
   "execution_count": 71,
   "id": "b80c1bb9-4218-4d96-b78d-25c76c4e0f7c",
   "metadata": {},
   "outputs": [
    {
     "name": "stdout",
     "output_type": "stream",
     "text": [
      "<class 'numpy.ndarray'>\n"
     ]
    }
   ],
   "source": [
    "img_npar=img.values\n",
    "print(type(img_npar))# only ndarray can be reshaped"
   ]
  },
  {
   "cell_type": "code",
   "execution_count": 73,
   "id": "01365b1c-2882-417c-9461-d06b44101b69",
   "metadata": {},
   "outputs": [
    {
     "name": "stdout",
     "output_type": "stream",
     "text": [
      "(28, 28)\n"
     ]
    }
   ],
   "source": [
    "re_img_npar=img_npar.reshape(28,28)\n",
    "print(re_img_npar.shape)"
   ]
  },
  {
   "cell_type": "code",
   "execution_count": 77,
   "id": "e5012efe-826f-457c-8eba-8431fcc21f6e",
   "metadata": {},
   "outputs": [],
   "source": [
    "from PIL import Image\n",
    "def img_show(img):\n",
    "    pil_img=Image.fromarray(np.uint8(img))\n",
    "    pil_img.show()\n",
    "img_show(img_npar)"
   ]
  },
  {
   "cell_type": "code",
   "execution_count": 79,
   "id": "203cbbb5-2a71-45d5-a8cb-9e83654c2a33",
   "metadata": {},
   "outputs": [],
   "source": [
    "img_show(re_img_npar)"
   ]
  },
  {
   "cell_type": "code",
   "execution_count": 81,
   "id": "f288d073-937c-4756-85fb-39a4a0a1f982",
   "metadata": {},
   "outputs": [
    {
     "name": "stdout",
     "output_type": "stream",
     "text": [
      "5\n"
     ]
    }
   ],
   "source": [
    "label=y_train[0] # the type of y_train is Series\n",
    "print(label)"
   ]
  },
  {
   "cell_type": "code",
   "execution_count": 113,
   "id": "d84ca3f4-1b22-4376-a361-dae758fa2e3d",
   "metadata": {},
   "outputs": [],
   "source": [
    "import pickle\n",
    "def init_network():\n",
    "    with open('sample_weight.pkl','rb') as f: #read_binary, for non text data like pictures and videos\n",
    "        network=pickle.load(f)\n",
    "    return network # return value\n",
    "def predict(network,x):\n",
    "    W1,W2,W3=network['W1'],network['W2'],network['W3']\n",
    "    b1,b2,b3=network['b1'],network['b2'],network['b3']\n",
    "    a1=np.dot(x,W1)+b1\n",
    "    Z1=sigmoid(a1)\n",
    "    a2=np.dot(Z1,W2)+b2\n",
    "    Z2=sigmoid(a2)\n",
    "    a3=np.dot(Z2,W3)+b3\n",
    "    y=softmax_new(a3)\n",
    "    return y"
   ]
  },
  {
   "cell_type": "code",
   "execution_count": 85,
   "id": "2773475e-e512-478e-ad4a-65103d423693",
   "metadata": {},
   "outputs": [
    {
     "name": "stdout",
     "output_type": "stream",
     "text": [
      "<class 'pandas.core.frame.DataFrame'>\n"
     ]
    }
   ],
   "source": [
    "print(type(X_test))"
   ]
  },
  {
   "cell_type": "code",
   "execution_count": 87,
   "id": "4b7725a5-1a52-459d-bda0-e768e5781736",
   "metadata": {},
   "outputs": [
    {
     "name": "stdout",
     "output_type": "stream",
     "text": [
      "<class 'pandas.core.series.Series'>\n"
     ]
    }
   ],
   "source": [
    "print(type(X_test.iloc[0]))"
   ]
  },
  {
   "cell_type": "code",
   "execution_count": 89,
   "id": "60358a2f-8d02-47da-a522-cd8521a37dd9",
   "metadata": {},
   "outputs": [
    {
     "name": "stdout",
     "output_type": "stream",
     "text": [
      "<class 'numpy.ndarray'>\n"
     ]
    }
   ],
   "source": [
    "print(type(X_test.iloc[0].values))"
   ]
  },
  {
   "cell_type": "code",
   "execution_count": 93,
   "id": "b757f25b-f837-4b67-ac7d-b60f362fcdb1",
   "metadata": {},
   "outputs": [
    {
     "name": "stdout",
     "output_type": "stream",
     "text": [
      "(784,)\n"
     ]
    }
   ],
   "source": [
    "npar_X_test_0=X_test.iloc[0].values\n",
    "print(npar_X_test_0.shape)"
   ]
  },
  {
   "cell_type": "code",
   "execution_count": 99,
   "id": "dbee1b50-5c1a-4d79-9f20-b18604498569",
   "metadata": {},
   "outputs": [
    {
     "name": "stdout",
     "output_type": "stream",
     "text": [
      "[[0 0 0 ... 0 0 0]\n",
      " [0 0 0 ... 0 0 0]\n",
      " [0 0 0 ... 0 0 0]\n",
      " ...\n",
      " [0 0 0 ... 0 0 0]\n",
      " [0 0 0 ... 0 0 0]\n",
      " [0 0 0 ... 0 0 0]]\n"
     ]
    }
   ],
   "source": [
    "npar_X_test=X_test.values \n",
    "len(npar_X_test)\n",
    "print(npar_X_test)"
   ]
  },
  {
   "cell_type": "code",
   "execution_count": 101,
   "id": "09e2a60d-05ae-4dcc-b523-f7bd0b688d2d",
   "metadata": {},
   "outputs": [
    {
     "data": {
      "text/plain": [
       "14000"
      ]
     },
     "execution_count": 101,
     "metadata": {},
     "output_type": "execute_result"
    }
   ],
   "source": [
    "len(X_test)"
   ]
  },
  {
   "cell_type": "code",
   "execution_count": 111,
   "id": "3d34412a-89c3-4359-9e4d-f4c7e67ed472",
   "metadata": {},
   "outputs": [
    {
     "name": "stderr",
     "output_type": "stream",
     "text": [
      "C:\\Users\\loktsinglong\\AppData\\Local\\Temp\\ipykernel_27084\\2055867569.py:2: RuntimeWarning: overflow encountered in exp\n",
      "  return 1/(1+np.exp(-x))\n"
     ]
    },
    {
     "ename": "KeyError",
     "evalue": "0",
     "output_type": "error",
     "traceback": [
      "\u001b[1;31m---------------------------------------------------------------------------\u001b[0m",
      "\u001b[1;31mKeyError\u001b[0m                                  Traceback (most recent call last)",
      "File \u001b[1;32mD:\\Anaconda-2024\\Lib\\site-packages\\pandas\\core\\indexes\\base.py:3805\u001b[0m, in \u001b[0;36mIndex.get_loc\u001b[1;34m(self, key)\u001b[0m\n\u001b[0;32m   3804\u001b[0m \u001b[38;5;28;01mtry\u001b[39;00m:\n\u001b[1;32m-> 3805\u001b[0m     \u001b[38;5;28;01mreturn\u001b[39;00m \u001b[38;5;28mself\u001b[39m\u001b[38;5;241m.\u001b[39m_engine\u001b[38;5;241m.\u001b[39mget_loc(casted_key)\n\u001b[0;32m   3806\u001b[0m \u001b[38;5;28;01mexcept\u001b[39;00m \u001b[38;5;167;01mKeyError\u001b[39;00m \u001b[38;5;28;01mas\u001b[39;00m err:\n",
      "File \u001b[1;32mindex.pyx:167\u001b[0m, in \u001b[0;36mpandas._libs.index.IndexEngine.get_loc\u001b[1;34m()\u001b[0m\n",
      "File \u001b[1;32mindex.pyx:196\u001b[0m, in \u001b[0;36mpandas._libs.index.IndexEngine.get_loc\u001b[1;34m()\u001b[0m\n",
      "File \u001b[1;32mpandas\\\\_libs\\\\hashtable_class_helper.pxi:2606\u001b[0m, in \u001b[0;36mpandas._libs.hashtable.Int64HashTable.get_item\u001b[1;34m()\u001b[0m\n",
      "File \u001b[1;32mpandas\\\\_libs\\\\hashtable_class_helper.pxi:2630\u001b[0m, in \u001b[0;36mpandas._libs.hashtable.Int64HashTable.get_item\u001b[1;34m()\u001b[0m\n",
      "\u001b[1;31mKeyError\u001b[0m: 0",
      "\nThe above exception was the direct cause of the following exception:\n",
      "\u001b[1;31mKeyError\u001b[0m                                  Traceback (most recent call last)",
      "Cell \u001b[1;32mIn[111], line 6\u001b[0m\n\u001b[0;32m      4\u001b[0m     y\u001b[38;5;241m=\u001b[39mpredict(network,X_test\u001b[38;5;241m.\u001b[39miloc[i]\u001b[38;5;241m.\u001b[39mvalues)\n\u001b[0;32m      5\u001b[0m     p\u001b[38;5;241m=\u001b[39mnp\u001b[38;5;241m.\u001b[39margmax(y)\n\u001b[1;32m----> 6\u001b[0m     \u001b[38;5;28;01mif\u001b[39;00m p \u001b[38;5;241m==\u001b[39m y_test[i]:\n\u001b[0;32m      7\u001b[0m         accuracy_cnt\u001b[38;5;241m+\u001b[39m\u001b[38;5;241m=\u001b[39m\u001b[38;5;241m1\u001b[39m\n\u001b[0;32m      8\u001b[0m \u001b[38;5;28mprint\u001b[39m(\u001b[38;5;124m'\u001b[39m\u001b[38;5;124mAccuracy:\u001b[39m\u001b[38;5;124m'\u001b[39m\u001b[38;5;241m+\u001b[39m\u001b[38;5;28mstr\u001b[39m(\u001b[38;5;28mfloat\u001b[39m(accuracy_cnt)\u001b[38;5;241m/\u001b[39m\u001b[38;5;28mlen\u001b[39m(npar_X_test)))\n",
      "File \u001b[1;32mD:\\Anaconda-2024\\Lib\\site-packages\\pandas\\core\\series.py:1121\u001b[0m, in \u001b[0;36mSeries.__getitem__\u001b[1;34m(self, key)\u001b[0m\n\u001b[0;32m   1118\u001b[0m     \u001b[38;5;28;01mreturn\u001b[39;00m \u001b[38;5;28mself\u001b[39m\u001b[38;5;241m.\u001b[39m_values[key]\n\u001b[0;32m   1120\u001b[0m \u001b[38;5;28;01melif\u001b[39;00m key_is_scalar:\n\u001b[1;32m-> 1121\u001b[0m     \u001b[38;5;28;01mreturn\u001b[39;00m \u001b[38;5;28mself\u001b[39m\u001b[38;5;241m.\u001b[39m_get_value(key)\n\u001b[0;32m   1123\u001b[0m \u001b[38;5;66;03m# Convert generator to list before going through hashable part\u001b[39;00m\n\u001b[0;32m   1124\u001b[0m \u001b[38;5;66;03m# (We will iterate through the generator there to check for slices)\u001b[39;00m\n\u001b[0;32m   1125\u001b[0m \u001b[38;5;28;01mif\u001b[39;00m is_iterator(key):\n",
      "File \u001b[1;32mD:\\Anaconda-2024\\Lib\\site-packages\\pandas\\core\\series.py:1237\u001b[0m, in \u001b[0;36mSeries._get_value\u001b[1;34m(self, label, takeable)\u001b[0m\n\u001b[0;32m   1234\u001b[0m     \u001b[38;5;28;01mreturn\u001b[39;00m \u001b[38;5;28mself\u001b[39m\u001b[38;5;241m.\u001b[39m_values[label]\n\u001b[0;32m   1236\u001b[0m \u001b[38;5;66;03m# Similar to Index.get_value, but we do not fall back to positional\u001b[39;00m\n\u001b[1;32m-> 1237\u001b[0m loc \u001b[38;5;241m=\u001b[39m \u001b[38;5;28mself\u001b[39m\u001b[38;5;241m.\u001b[39mindex\u001b[38;5;241m.\u001b[39mget_loc(label)\n\u001b[0;32m   1239\u001b[0m \u001b[38;5;28;01mif\u001b[39;00m is_integer(loc):\n\u001b[0;32m   1240\u001b[0m     \u001b[38;5;28;01mreturn\u001b[39;00m \u001b[38;5;28mself\u001b[39m\u001b[38;5;241m.\u001b[39m_values[loc]\n",
      "File \u001b[1;32mD:\\Anaconda-2024\\Lib\\site-packages\\pandas\\core\\indexes\\base.py:3812\u001b[0m, in \u001b[0;36mIndex.get_loc\u001b[1;34m(self, key)\u001b[0m\n\u001b[0;32m   3807\u001b[0m     \u001b[38;5;28;01mif\u001b[39;00m \u001b[38;5;28misinstance\u001b[39m(casted_key, \u001b[38;5;28mslice\u001b[39m) \u001b[38;5;129;01mor\u001b[39;00m (\n\u001b[0;32m   3808\u001b[0m         \u001b[38;5;28misinstance\u001b[39m(casted_key, abc\u001b[38;5;241m.\u001b[39mIterable)\n\u001b[0;32m   3809\u001b[0m         \u001b[38;5;129;01mand\u001b[39;00m \u001b[38;5;28many\u001b[39m(\u001b[38;5;28misinstance\u001b[39m(x, \u001b[38;5;28mslice\u001b[39m) \u001b[38;5;28;01mfor\u001b[39;00m x \u001b[38;5;129;01min\u001b[39;00m casted_key)\n\u001b[0;32m   3810\u001b[0m     ):\n\u001b[0;32m   3811\u001b[0m         \u001b[38;5;28;01mraise\u001b[39;00m InvalidIndexError(key)\n\u001b[1;32m-> 3812\u001b[0m     \u001b[38;5;28;01mraise\u001b[39;00m \u001b[38;5;167;01mKeyError\u001b[39;00m(key) \u001b[38;5;28;01mfrom\u001b[39;00m \u001b[38;5;21;01merr\u001b[39;00m\n\u001b[0;32m   3813\u001b[0m \u001b[38;5;28;01mexcept\u001b[39;00m \u001b[38;5;167;01mTypeError\u001b[39;00m:\n\u001b[0;32m   3814\u001b[0m     \u001b[38;5;66;03m# If we have a listlike key, _check_indexing_error will raise\u001b[39;00m\n\u001b[0;32m   3815\u001b[0m     \u001b[38;5;66;03m#  InvalidIndexError. Otherwise we fall through and re-raise\u001b[39;00m\n\u001b[0;32m   3816\u001b[0m     \u001b[38;5;66;03m#  the TypeError.\u001b[39;00m\n\u001b[0;32m   3817\u001b[0m     \u001b[38;5;28mself\u001b[39m\u001b[38;5;241m.\u001b[39m_check_indexing_error(key)\n",
      "\u001b[1;31mKeyError\u001b[0m: 0"
     ]
    }
   ],
   "source": [
    "network=init_network()\n",
    "accuracy_cnt=0\n",
    "for i in range(len(npar_X_test)):\n",
    "    y=predict(network,X_test.iloc[i].values)\n",
    "    p=np.argmax(y)\n",
    "    if p == y_test[i]:\n",
    "        accuracy_cnt+=1\n",
    "print('Accuracy:'+str(float(accuracy_cnt)/len(npar_X_test)))"
   ]
  },
  {
   "cell_type": "code",
   "execution_count": 115,
   "id": "35290874-12f0-46dd-8a68-46fe55650e79",
   "metadata": {},
   "outputs": [],
   "source": [
    "def softmax_new(x):\n",
    "    x_max=np.max(x)\n",
    "    x_new=x-x_max\n",
    "    exp_x=np.exp(x_new)\n",
    "    sum_exp_x=np.sum(exp_x)\n",
    "    return exp_x/sum_exp_x"
   ]
  },
  {
   "cell_type": "code",
   "execution_count": 117,
   "id": "1773daf7-dd4e-4d32-af57-2cbb6d595d60",
   "metadata": {},
   "outputs": [
    {
     "name": "stderr",
     "output_type": "stream",
     "text": [
      "C:\\Users\\loktsinglong\\AppData\\Local\\Temp\\ipykernel_27084\\2055867569.py:2: RuntimeWarning: overflow encountered in exp\n",
      "  return 1/(1+np.exp(-x))\n"
     ]
    },
    {
     "ename": "KeyError",
     "evalue": "0",
     "output_type": "error",
     "traceback": [
      "\u001b[1;31m---------------------------------------------------------------------------\u001b[0m",
      "\u001b[1;31mKeyError\u001b[0m                                  Traceback (most recent call last)",
      "File \u001b[1;32mD:\\Anaconda-2024\\Lib\\site-packages\\pandas\\core\\indexes\\base.py:3805\u001b[0m, in \u001b[0;36mIndex.get_loc\u001b[1;34m(self, key)\u001b[0m\n\u001b[0;32m   3804\u001b[0m \u001b[38;5;28;01mtry\u001b[39;00m:\n\u001b[1;32m-> 3805\u001b[0m     \u001b[38;5;28;01mreturn\u001b[39;00m \u001b[38;5;28mself\u001b[39m\u001b[38;5;241m.\u001b[39m_engine\u001b[38;5;241m.\u001b[39mget_loc(casted_key)\n\u001b[0;32m   3806\u001b[0m \u001b[38;5;28;01mexcept\u001b[39;00m \u001b[38;5;167;01mKeyError\u001b[39;00m \u001b[38;5;28;01mas\u001b[39;00m err:\n",
      "File \u001b[1;32mindex.pyx:167\u001b[0m, in \u001b[0;36mpandas._libs.index.IndexEngine.get_loc\u001b[1;34m()\u001b[0m\n",
      "File \u001b[1;32mindex.pyx:196\u001b[0m, in \u001b[0;36mpandas._libs.index.IndexEngine.get_loc\u001b[1;34m()\u001b[0m\n",
      "File \u001b[1;32mpandas\\\\_libs\\\\hashtable_class_helper.pxi:2606\u001b[0m, in \u001b[0;36mpandas._libs.hashtable.Int64HashTable.get_item\u001b[1;34m()\u001b[0m\n",
      "File \u001b[1;32mpandas\\\\_libs\\\\hashtable_class_helper.pxi:2630\u001b[0m, in \u001b[0;36mpandas._libs.hashtable.Int64HashTable.get_item\u001b[1;34m()\u001b[0m\n",
      "\u001b[1;31mKeyError\u001b[0m: 0",
      "\nThe above exception was the direct cause of the following exception:\n",
      "\u001b[1;31mKeyError\u001b[0m                                  Traceback (most recent call last)",
      "Cell \u001b[1;32mIn[117], line 6\u001b[0m\n\u001b[0;32m      4\u001b[0m     y\u001b[38;5;241m=\u001b[39mpredict(network,X_test\u001b[38;5;241m.\u001b[39miloc[i]\u001b[38;5;241m.\u001b[39mvalues)\n\u001b[0;32m      5\u001b[0m     p\u001b[38;5;241m=\u001b[39mnp\u001b[38;5;241m.\u001b[39margmax(y)\n\u001b[1;32m----> 6\u001b[0m     \u001b[38;5;28;01mif\u001b[39;00m p \u001b[38;5;241m==\u001b[39m y_test[i]:\n\u001b[0;32m      7\u001b[0m         accuracy_cnt\u001b[38;5;241m+\u001b[39m\u001b[38;5;241m=\u001b[39m\u001b[38;5;241m1\u001b[39m\n\u001b[0;32m      8\u001b[0m \u001b[38;5;28mprint\u001b[39m(\u001b[38;5;124m'\u001b[39m\u001b[38;5;124mAccuracy:\u001b[39m\u001b[38;5;124m'\u001b[39m\u001b[38;5;241m+\u001b[39m\u001b[38;5;28mstr\u001b[39m(\u001b[38;5;28mfloat\u001b[39m(accuracy_cnt)\u001b[38;5;241m/\u001b[39m\u001b[38;5;28mlen\u001b[39m(npar_X_test)))\n",
      "File \u001b[1;32mD:\\Anaconda-2024\\Lib\\site-packages\\pandas\\core\\series.py:1121\u001b[0m, in \u001b[0;36mSeries.__getitem__\u001b[1;34m(self, key)\u001b[0m\n\u001b[0;32m   1118\u001b[0m     \u001b[38;5;28;01mreturn\u001b[39;00m \u001b[38;5;28mself\u001b[39m\u001b[38;5;241m.\u001b[39m_values[key]\n\u001b[0;32m   1120\u001b[0m \u001b[38;5;28;01melif\u001b[39;00m key_is_scalar:\n\u001b[1;32m-> 1121\u001b[0m     \u001b[38;5;28;01mreturn\u001b[39;00m \u001b[38;5;28mself\u001b[39m\u001b[38;5;241m.\u001b[39m_get_value(key)\n\u001b[0;32m   1123\u001b[0m \u001b[38;5;66;03m# Convert generator to list before going through hashable part\u001b[39;00m\n\u001b[0;32m   1124\u001b[0m \u001b[38;5;66;03m# (We will iterate through the generator there to check for slices)\u001b[39;00m\n\u001b[0;32m   1125\u001b[0m \u001b[38;5;28;01mif\u001b[39;00m is_iterator(key):\n",
      "File \u001b[1;32mD:\\Anaconda-2024\\Lib\\site-packages\\pandas\\core\\series.py:1237\u001b[0m, in \u001b[0;36mSeries._get_value\u001b[1;34m(self, label, takeable)\u001b[0m\n\u001b[0;32m   1234\u001b[0m     \u001b[38;5;28;01mreturn\u001b[39;00m \u001b[38;5;28mself\u001b[39m\u001b[38;5;241m.\u001b[39m_values[label]\n\u001b[0;32m   1236\u001b[0m \u001b[38;5;66;03m# Similar to Index.get_value, but we do not fall back to positional\u001b[39;00m\n\u001b[1;32m-> 1237\u001b[0m loc \u001b[38;5;241m=\u001b[39m \u001b[38;5;28mself\u001b[39m\u001b[38;5;241m.\u001b[39mindex\u001b[38;5;241m.\u001b[39mget_loc(label)\n\u001b[0;32m   1239\u001b[0m \u001b[38;5;28;01mif\u001b[39;00m is_integer(loc):\n\u001b[0;32m   1240\u001b[0m     \u001b[38;5;28;01mreturn\u001b[39;00m \u001b[38;5;28mself\u001b[39m\u001b[38;5;241m.\u001b[39m_values[loc]\n",
      "File \u001b[1;32mD:\\Anaconda-2024\\Lib\\site-packages\\pandas\\core\\indexes\\base.py:3812\u001b[0m, in \u001b[0;36mIndex.get_loc\u001b[1;34m(self, key)\u001b[0m\n\u001b[0;32m   3807\u001b[0m     \u001b[38;5;28;01mif\u001b[39;00m \u001b[38;5;28misinstance\u001b[39m(casted_key, \u001b[38;5;28mslice\u001b[39m) \u001b[38;5;129;01mor\u001b[39;00m (\n\u001b[0;32m   3808\u001b[0m         \u001b[38;5;28misinstance\u001b[39m(casted_key, abc\u001b[38;5;241m.\u001b[39mIterable)\n\u001b[0;32m   3809\u001b[0m         \u001b[38;5;129;01mand\u001b[39;00m \u001b[38;5;28many\u001b[39m(\u001b[38;5;28misinstance\u001b[39m(x, \u001b[38;5;28mslice\u001b[39m) \u001b[38;5;28;01mfor\u001b[39;00m x \u001b[38;5;129;01min\u001b[39;00m casted_key)\n\u001b[0;32m   3810\u001b[0m     ):\n\u001b[0;32m   3811\u001b[0m         \u001b[38;5;28;01mraise\u001b[39;00m InvalidIndexError(key)\n\u001b[1;32m-> 3812\u001b[0m     \u001b[38;5;28;01mraise\u001b[39;00m \u001b[38;5;167;01mKeyError\u001b[39;00m(key) \u001b[38;5;28;01mfrom\u001b[39;00m \u001b[38;5;21;01merr\u001b[39;00m\n\u001b[0;32m   3813\u001b[0m \u001b[38;5;28;01mexcept\u001b[39;00m \u001b[38;5;167;01mTypeError\u001b[39;00m:\n\u001b[0;32m   3814\u001b[0m     \u001b[38;5;66;03m# If we have a listlike key, _check_indexing_error will raise\u001b[39;00m\n\u001b[0;32m   3815\u001b[0m     \u001b[38;5;66;03m#  InvalidIndexError. Otherwise we fall through and re-raise\u001b[39;00m\n\u001b[0;32m   3816\u001b[0m     \u001b[38;5;66;03m#  the TypeError.\u001b[39;00m\n\u001b[0;32m   3817\u001b[0m     \u001b[38;5;28mself\u001b[39m\u001b[38;5;241m.\u001b[39m_check_indexing_error(key)\n",
      "\u001b[1;31mKeyError\u001b[0m: 0"
     ]
    }
   ],
   "source": [
    "network=init_network()\n",
    "accuracy_cnt=0\n",
    "for i in range(len(npar_X_test)):\n",
    "    y=predict(network,X_test.iloc[i].values)\n",
    "    p=np.argmax(y)\n",
    "    if p == y_test[i]:\n",
    "        accuracy_cnt+=1\n",
    "print('Accuracy:'+str(float(accuracy_cnt)/len(npar_X_test)))"
   ]
  },
  {
   "cell_type": "code",
   "execution_count": 121,
   "id": "ee6ed1dd-dbe2-405c-871f-d831189d67bf",
   "metadata": {},
   "outputs": [
    {
     "name": "stdout",
     "output_type": "stream",
     "text": [
      "False\n"
     ]
    }
   ],
   "source": [
    "''' \n",
    "overflow took place in sigmoid function\n",
    "sigmoid=1/(1+exp(-x)) how could overflow take place?\n",
    "are there some negative numbers in the input data?\n",
    " '''\n",
    "has_negative=np.any(npar_X_test<0)\n",
    "print(has_negative)"
   ]
  },
  {
   "cell_type": "code",
   "execution_count": 123,
   "id": "4b4f6fe6-9c91-498f-bd03-f97531489bd0",
   "metadata": {},
   "outputs": [
    {
     "ename": "KeyError",
     "evalue": "0",
     "output_type": "error",
     "traceback": [
      "\u001b[1;31m---------------------------------------------------------------------------\u001b[0m",
      "\u001b[1;31mKeyError\u001b[0m                                  Traceback (most recent call last)",
      "File \u001b[1;32mD:\\Anaconda-2024\\Lib\\site-packages\\pandas\\core\\indexes\\base.py:3805\u001b[0m, in \u001b[0;36mIndex.get_loc\u001b[1;34m(self, key)\u001b[0m\n\u001b[0;32m   3804\u001b[0m \u001b[38;5;28;01mtry\u001b[39;00m:\n\u001b[1;32m-> 3805\u001b[0m     \u001b[38;5;28;01mreturn\u001b[39;00m \u001b[38;5;28mself\u001b[39m\u001b[38;5;241m.\u001b[39m_engine\u001b[38;5;241m.\u001b[39mget_loc(casted_key)\n\u001b[0;32m   3806\u001b[0m \u001b[38;5;28;01mexcept\u001b[39;00m \u001b[38;5;167;01mKeyError\u001b[39;00m \u001b[38;5;28;01mas\u001b[39;00m err:\n",
      "File \u001b[1;32mindex.pyx:167\u001b[0m, in \u001b[0;36mpandas._libs.index.IndexEngine.get_loc\u001b[1;34m()\u001b[0m\n",
      "File \u001b[1;32mindex.pyx:196\u001b[0m, in \u001b[0;36mpandas._libs.index.IndexEngine.get_loc\u001b[1;34m()\u001b[0m\n",
      "File \u001b[1;32mpandas\\\\_libs\\\\hashtable_class_helper.pxi:2606\u001b[0m, in \u001b[0;36mpandas._libs.hashtable.Int64HashTable.get_item\u001b[1;34m()\u001b[0m\n",
      "File \u001b[1;32mpandas\\\\_libs\\\\hashtable_class_helper.pxi:2630\u001b[0m, in \u001b[0;36mpandas._libs.hashtable.Int64HashTable.get_item\u001b[1;34m()\u001b[0m\n",
      "\u001b[1;31mKeyError\u001b[0m: 0",
      "\nThe above exception was the direct cause of the following exception:\n",
      "\u001b[1;31mKeyError\u001b[0m                                  Traceback (most recent call last)",
      "Cell \u001b[1;32mIn[123], line 1\u001b[0m\n\u001b[1;32m----> 1\u001b[0m y_test[\u001b[38;5;241m0\u001b[39m]\n",
      "File \u001b[1;32mD:\\Anaconda-2024\\Lib\\site-packages\\pandas\\core\\series.py:1121\u001b[0m, in \u001b[0;36mSeries.__getitem__\u001b[1;34m(self, key)\u001b[0m\n\u001b[0;32m   1118\u001b[0m     \u001b[38;5;28;01mreturn\u001b[39;00m \u001b[38;5;28mself\u001b[39m\u001b[38;5;241m.\u001b[39m_values[key]\n\u001b[0;32m   1120\u001b[0m \u001b[38;5;28;01melif\u001b[39;00m key_is_scalar:\n\u001b[1;32m-> 1121\u001b[0m     \u001b[38;5;28;01mreturn\u001b[39;00m \u001b[38;5;28mself\u001b[39m\u001b[38;5;241m.\u001b[39m_get_value(key)\n\u001b[0;32m   1123\u001b[0m \u001b[38;5;66;03m# Convert generator to list before going through hashable part\u001b[39;00m\n\u001b[0;32m   1124\u001b[0m \u001b[38;5;66;03m# (We will iterate through the generator there to check for slices)\u001b[39;00m\n\u001b[0;32m   1125\u001b[0m \u001b[38;5;28;01mif\u001b[39;00m is_iterator(key):\n",
      "File \u001b[1;32mD:\\Anaconda-2024\\Lib\\site-packages\\pandas\\core\\series.py:1237\u001b[0m, in \u001b[0;36mSeries._get_value\u001b[1;34m(self, label, takeable)\u001b[0m\n\u001b[0;32m   1234\u001b[0m     \u001b[38;5;28;01mreturn\u001b[39;00m \u001b[38;5;28mself\u001b[39m\u001b[38;5;241m.\u001b[39m_values[label]\n\u001b[0;32m   1236\u001b[0m \u001b[38;5;66;03m# Similar to Index.get_value, but we do not fall back to positional\u001b[39;00m\n\u001b[1;32m-> 1237\u001b[0m loc \u001b[38;5;241m=\u001b[39m \u001b[38;5;28mself\u001b[39m\u001b[38;5;241m.\u001b[39mindex\u001b[38;5;241m.\u001b[39mget_loc(label)\n\u001b[0;32m   1239\u001b[0m \u001b[38;5;28;01mif\u001b[39;00m is_integer(loc):\n\u001b[0;32m   1240\u001b[0m     \u001b[38;5;28;01mreturn\u001b[39;00m \u001b[38;5;28mself\u001b[39m\u001b[38;5;241m.\u001b[39m_values[loc]\n",
      "File \u001b[1;32mD:\\Anaconda-2024\\Lib\\site-packages\\pandas\\core\\indexes\\base.py:3812\u001b[0m, in \u001b[0;36mIndex.get_loc\u001b[1;34m(self, key)\u001b[0m\n\u001b[0;32m   3807\u001b[0m     \u001b[38;5;28;01mif\u001b[39;00m \u001b[38;5;28misinstance\u001b[39m(casted_key, \u001b[38;5;28mslice\u001b[39m) \u001b[38;5;129;01mor\u001b[39;00m (\n\u001b[0;32m   3808\u001b[0m         \u001b[38;5;28misinstance\u001b[39m(casted_key, abc\u001b[38;5;241m.\u001b[39mIterable)\n\u001b[0;32m   3809\u001b[0m         \u001b[38;5;129;01mand\u001b[39;00m \u001b[38;5;28many\u001b[39m(\u001b[38;5;28misinstance\u001b[39m(x, \u001b[38;5;28mslice\u001b[39m) \u001b[38;5;28;01mfor\u001b[39;00m x \u001b[38;5;129;01min\u001b[39;00m casted_key)\n\u001b[0;32m   3810\u001b[0m     ):\n\u001b[0;32m   3811\u001b[0m         \u001b[38;5;28;01mraise\u001b[39;00m InvalidIndexError(key)\n\u001b[1;32m-> 3812\u001b[0m     \u001b[38;5;28;01mraise\u001b[39;00m \u001b[38;5;167;01mKeyError\u001b[39;00m(key) \u001b[38;5;28;01mfrom\u001b[39;00m \u001b[38;5;21;01merr\u001b[39;00m\n\u001b[0;32m   3813\u001b[0m \u001b[38;5;28;01mexcept\u001b[39;00m \u001b[38;5;167;01mTypeError\u001b[39;00m:\n\u001b[0;32m   3814\u001b[0m     \u001b[38;5;66;03m# If we have a listlike key, _check_indexing_error will raise\u001b[39;00m\n\u001b[0;32m   3815\u001b[0m     \u001b[38;5;66;03m#  InvalidIndexError. Otherwise we fall through and re-raise\u001b[39;00m\n\u001b[0;32m   3816\u001b[0m     \u001b[38;5;66;03m#  the TypeError.\u001b[39;00m\n\u001b[0;32m   3817\u001b[0m     \u001b[38;5;28mself\u001b[39m\u001b[38;5;241m.\u001b[39m_check_indexing_error(key)\n",
      "\u001b[1;31mKeyError\u001b[0m: 0"
     ]
    }
   ],
   "source": [
    "y_test[0]"
   ]
  },
  {
   "cell_type": "code",
   "execution_count": 125,
   "id": "f001b374-4a4c-4488-8dfe-38acab4cd7bb",
   "metadata": {},
   "outputs": [
    {
     "name": "stdout",
     "output_type": "stream",
     "text": [
      "<class 'pandas.core.series.Series'>\n"
     ]
    }
   ],
   "source": [
    "# keyError\n",
    "print(type(y_test))"
   ]
  },
  {
   "cell_type": "code",
   "execution_count": 127,
   "id": "e5b64f88-5549-4551-88ee-4c238fb2e2d6",
   "metadata": {},
   "outputs": [
    {
     "data": {
      "text/plain": [
       "'8'"
      ]
     },
     "execution_count": 127,
     "metadata": {},
     "output_type": "execute_result"
    }
   ],
   "source": [
    "y_test.iloc[0] #series and dataframe use iloc"
   ]
  },
  {
   "cell_type": "code",
   "execution_count": 133,
   "id": "ba77ef3e-bb3c-4019-a4d9-7cbe6e2ce4c4",
   "metadata": {},
   "outputs": [
    {
     "data": {
      "text/plain": [
       "'1'"
      ]
     },
     "execution_count": 133,
     "metadata": {},
     "output_type": "execute_result"
    }
   ],
   "source": [
    "y_test.iloc[13999]"
   ]
  },
  {
   "cell_type": "code",
   "execution_count": 131,
   "id": "4a5e49c9-2a80-450d-805e-1b8c65da150c",
   "metadata": {},
   "outputs": [
    {
     "data": {
      "text/plain": [
       "14000"
      ]
     },
     "execution_count": 131,
     "metadata": {},
     "output_type": "execute_result"
    }
   ],
   "source": [
    "len(y_test)"
   ]
  },
  {
   "cell_type": "code",
   "execution_count": 135,
   "id": "7afdc07a-6cd6-4158-b7ff-3d44d4c6c22d",
   "metadata": {},
   "outputs": [
    {
     "name": "stderr",
     "output_type": "stream",
     "text": [
      "C:\\Users\\loktsinglong\\AppData\\Local\\Temp\\ipykernel_27084\\2055867569.py:2: RuntimeWarning: overflow encountered in exp\n",
      "  return 1/(1+np.exp(-x))\n"
     ]
    },
    {
     "name": "stdout",
     "output_type": "stream",
     "text": [
      "Accuracy:0.0\n"
     ]
    }
   ],
   "source": [
    "# the simplest way is to convert y_test into npar_y_test\n",
    "npar_y_test=y_test.values\n",
    "network=init_network()\n",
    "accuracy_cnt=0\n",
    "for i in range(len(npar_X_test)):\n",
    "    y=predict(network,X_test.iloc[i].values)\n",
    "    p=np.argmax(y)\n",
    "    if p == npar_y_test[i]:\n",
    "        accuracy_cnt+=1\n",
    "\n",
    "print('Accuracy:'+str(float(accuracy_cnt)/len(npar_X_test))) # a wrong accuracy result"
   ]
  },
  {
   "cell_type": "code",
   "execution_count": 141,
   "id": "e7098839-5d05-4567-93ea-46221c336c80",
   "metadata": {},
   "outputs": [
    {
     "name": "stdout",
     "output_type": "stream",
     "text": [
      "[1.86614164e-10 9.99018025e-01 3.77019061e-05 5.27728282e-05\n",
      " 3.38274137e-07 1.70038733e-05 8.86375506e-06 3.68444305e-06\n",
      " 8.55754018e-04 5.85599860e-06]\n"
     ]
    }
   ],
   "source": [
    "print(y) # y here means the prediction result of the 14000th picture"
   ]
  },
  {
   "cell_type": "code",
   "execution_count": 143,
   "id": "9c6379f8-5920-4b53-a1f6-ec7425758276",
   "metadata": {},
   "outputs": [
    {
     "name": "stdout",
     "output_type": "stream",
     "text": [
      "1\n"
     ]
    }
   ],
   "source": [
    "print(p)"
   ]
  },
  {
   "cell_type": "code",
   "execution_count": 147,
   "id": "a69b6b28-08bc-47ef-9364-f4bf485e3ec1",
   "metadata": {},
   "outputs": [
    {
     "name": "stdout",
     "output_type": "stream",
     "text": [
      "1\n"
     ]
    }
   ],
   "source": [
    "print(npar_y_test[13999])"
   ]
  },
  {
   "cell_type": "code",
   "execution_count": 149,
   "id": "a05dfb96-a8a7-44d5-9f6e-45d54e496e78",
   "metadata": {},
   "outputs": [
    {
     "data": {
      "text/plain": [
       "14000"
      ]
     },
     "execution_count": 149,
     "metadata": {},
     "output_type": "execute_result"
    }
   ],
   "source": [
    "len(npar_X_test)"
   ]
  },
  {
   "cell_type": "code",
   "execution_count": 151,
   "id": "9c282a26-d55c-43cc-a056-e3cbd43e4b0a",
   "metadata": {},
   "outputs": [
    {
     "name": "stdout",
     "output_type": "stream",
     "text": [
      "0.9999999999999998\n"
     ]
    }
   ],
   "source": [
    "print(np.sum(y))"
   ]
  },
  {
   "cell_type": "code",
   "execution_count": 153,
   "id": "5e4b594a-6f82-4ddc-b4a6-cdaab9efe4e5",
   "metadata": {},
   "outputs": [
    {
     "name": "stdout",
     "output_type": "stream",
     "text": [
      "0\n"
     ]
    }
   ],
   "source": [
    "print(accuracy_cnt) # there is a problem here"
   ]
  },
  {
   "cell_type": "code",
   "execution_count": 193,
   "id": "8e66eeea-1993-4169-b0b1-9f77174212db",
   "metadata": {},
   "outputs": [
    {
     "name": "stderr",
     "output_type": "stream",
     "text": [
      "C:\\Users\\loktsinglong\\AppData\\Local\\Temp\\ipykernel_27084\\2055867569.py:2: RuntimeWarning: overflow encountered in exp\n",
      "  return 1/(1+np.exp(-x))\n"
     ]
    },
    {
     "name": "stdout",
     "output_type": "stream",
     "text": [
      "Accuracy:0.0\n"
     ]
    }
   ],
   "source": [
    "# the simplest way is to convert y_test into npar_y_test\n",
    "npar_y_test=y_test.values\n",
    "network=init_network()\n",
    "accuracy_cnt=0\n",
    "for i in range(len(npar_X_test)):\n",
    "    y=predict(network,X_test.iloc[i].values)\n",
    "    p=np.argmax(y)\n",
    "    #print(f\"Predicted: {p}, Actual: {npar_y_test[i]}\"\n",
    "    if p == npar_y_test[i]:\n",
    "        accuracy_cnt+=1\n",
    "        print(f\"accuracy_cnt:{accuracy_cnt}\")\n",
    "\n",
    "print('Accuracy:'+str(float(accuracy_cnt)/len(npar_X_test))) # a wrong accuracy result"
   ]
  },
  {
   "cell_type": "code",
   "execution_count": 167,
   "id": "70af6b8b-7238-4506-9b95-ee3a01055867",
   "metadata": {},
   "outputs": [
    {
     "name": "stdout",
     "output_type": "stream",
     "text": [
      "type(p):<class 'numpy.int64'>\n",
      "type(y):<class 'str'>\n"
     ]
    }
   ],
   "source": [
    "# if p == npar_y_test[i]: is invalid?\n",
    "# the comparison == failed!!!\n",
    "print(f'type(p):{type(p)}\\ntype(y):{type(npar_y_test[13999])}') # they are of different data types"
   ]
  },
  {
   "cell_type": "code",
   "execution_count": 173,
   "id": "ecfcad70-6143-40a4-a682-d4a8689c3a92",
   "metadata": {},
   "outputs": [
    {
     "name": "stderr",
     "output_type": "stream",
     "text": [
      "C:\\Users\\loktsinglong\\AppData\\Local\\Temp\\ipykernel_27084\\2055867569.py:2: RuntimeWarning: overflow encountered in exp\n",
      "  return 1/(1+np.exp(-x))\n"
     ]
    },
    {
     "name": "stdout",
     "output_type": "stream",
     "text": [
      "Accuracy:0.9240714285714285\n"
     ]
    }
   ],
   "source": [
    "# Solution: Force type conversion\n",
    "npar_y_test=y_test.values\n",
    "network=init_network()\n",
    "accuracy_cnt=0\n",
    "for i in range(len(npar_X_test)):\n",
    "    y=predict(network,X_test.iloc[i].values) # the same as: y = predict(network, npar_X_test[i])\n",
    "    p=np.argmax(y)\n",
    "    if int(p) == int(npar_y_test[i]):\n",
    "        accuracy_cnt+=1\n",
    "\n",
    "print('Accuracy:'+str(float(accuracy_cnt)/len(npar_X_test)))"
   ]
  },
  {
   "cell_type": "code",
   "execution_count": 175,
   "id": "b3a576e9-08a7-45e2-911e-59ee295c9765",
   "metadata": {},
   "outputs": [
    {
     "name": "stdout",
     "output_type": "stream",
     "text": [
      "npar_X_test_shape:(14000, 784)\n",
      "npar_X_test[0]_shape:(784,)\n",
      "W1 shape:(784, 50), W2 shape:(50, 100), W3 shape:(100, 10)\n"
     ]
    }
   ],
   "source": [
    "print(f'npar_X_test_shape:{npar_X_test.shape}')\n",
    "print(f'npar_X_test[0]_shape:{npar_X_test[0].shape}')\n",
    "W1,W2,W3=network['W1'],network['W2'],network['W3']\n",
    "print(f'W1 shape:{W1.shape}, W2 shape:{W2.shape}, W3 shape:{W3.shape}')"
   ]
  },
  {
   "cell_type": "code",
   "execution_count": 181,
   "id": "1e888b36-a52c-48dd-a4eb-0340612325dd",
   "metadata": {},
   "outputs": [
    {
     "name": "stderr",
     "output_type": "stream",
     "text": [
      "C:\\Users\\loktsinglong\\AppData\\Local\\Temp\\ipykernel_27084\\2055867569.py:2: RuntimeWarning: overflow encountered in exp\n",
      "  return 1/(1+np.exp(-x))\n"
     ]
    },
    {
     "ename": "TypeError",
     "evalue": "only length-1 arrays can be converted to Python scalars",
     "output_type": "error",
     "traceback": [
      "\u001b[1;31m---------------------------------------------------------------------------\u001b[0m",
      "\u001b[1;31mTypeError\u001b[0m                                 Traceback (most recent call last)",
      "Cell \u001b[1;32mIn[181], line 7\u001b[0m\n\u001b[0;32m      5\u001b[0m     y_batch\u001b[38;5;241m=\u001b[39mpredict(network,X_batch)\n\u001b[0;32m      6\u001b[0m     p\u001b[38;5;241m=\u001b[39mnp\u001b[38;5;241m.\u001b[39margmax(y_batch,axis\u001b[38;5;241m=\u001b[39m\u001b[38;5;241m1\u001b[39m) \u001b[38;5;66;03m# axis=1 stands for row direction and axis=0 stands for column direction\u001b[39;00m\n\u001b[1;32m----> 7\u001b[0m     accuracy_cnt \u001b[38;5;241m+\u001b[39m\u001b[38;5;241m=\u001b[39m np\u001b[38;5;241m.\u001b[39msum(\u001b[38;5;28mint\u001b[39m(p)\u001b[38;5;241m==\u001b[39m\u001b[38;5;28mint\u001b[39m(npar_y_test[i:i\u001b[38;5;241m+\u001b[39mbatch_size]))\n\u001b[0;32m      8\u001b[0m \u001b[38;5;28mprint\u001b[39m(\u001b[38;5;124m'\u001b[39m\u001b[38;5;124mAccuracy:\u001b[39m\u001b[38;5;124m'\u001b[39m\u001b[38;5;241m+\u001b[39m\u001b[38;5;28mstr\u001b[39m(\u001b[38;5;28mfloat\u001b[39m(accuracy_cnt)\u001b[38;5;241m/\u001b[39m\u001b[38;5;28mlen\u001b[39m(npar_X_test)))\n",
      "\u001b[1;31mTypeError\u001b[0m: only length-1 arrays can be converted to Python scalars"
     ]
    }
   ],
   "source": [
    "batch_size = 100 # batch size\n",
    "accuracy_cnt=0\n",
    "for i in range(0,len(npar_X_test),batch_size):\n",
    "    X_batch=npar_X_test[i:i+batch_size]\n",
    "    y_batch=predict(network,X_batch)\n",
    "    p=np.argmax(y_batch,axis=1) # axis=1 stands for row direction and axis=0 stands for column direction\n",
    "    accuracy_cnt += np.sum(int(p)==int(npar_y_test[i:i+batch_size])) # int() operation only works for or only valid for the arrays of length 1\n",
    "print('Accuracy:'+str(float(accuracy_cnt)/len(npar_X_test)))"
   ]
  },
  {
   "cell_type": "code",
   "execution_count": 189,
   "id": "71035340-86f1-4d7a-8bb0-b0f05bfa831d",
   "metadata": {},
   "outputs": [
    {
     "name": "stderr",
     "output_type": "stream",
     "text": [
      "C:\\Users\\loktsinglong\\AppData\\Local\\Temp\\ipykernel_27084\\2055867569.py:2: RuntimeWarning: overflow encountered in exp\n",
      "  return 1/(1+np.exp(-x))\n"
     ]
    },
    {
     "name": "stdout",
     "output_type": "stream",
     "text": [
      "Accuracy:0.9240714285714285\n"
     ]
    }
   ],
   "source": [
    "int_y_test = npar_y_test.astype(int) # convert the whole numpy array from string into int, changing the data type\n",
    "batch_size = 100 # batch size\n",
    "accuracy_cnt=0\n",
    "for i in range(0,len(npar_X_test),batch_size):\n",
    "    X_batch=npar_X_test[i:i+batch_size]\n",
    "    y_batch=predict(network,X_batch)\n",
    "    p=np.argmax(y_batch,axis=1) # axis=1 stands for row direction and axis=0 stands for column direction\n",
    "    accuracy_cnt += np.sum(p==int_y_test[i:i+batch_size]) \n",
    "print('Accuracy:'+str(float(accuracy_cnt)/len(npar_X_test)))"
   ]
  },
  {
   "cell_type": "code",
   "execution_count": 187,
   "id": "8d70bc4e-834e-431c-8b6e-9ffa2249d86a",
   "metadata": {},
   "outputs": [
    {
     "name": "stdout",
     "output_type": "stream",
     "text": [
      "[1 2 1 0]\n"
     ]
    }
   ],
   "source": [
    "X=np.array([[0.1,0.8,0.1],\n",
    "           [0.3,0.1,0.6],\n",
    "           [0.3,0.5,0.2],\n",
    "           [0.8,0.1,0.1]])\n",
    "y=np.argmax(X,axis=1) #axis=1 stands for row direction\n",
    "print(y)"
   ]
  },
  {
   "cell_type": "code",
   "execution_count": 191,
   "id": "9d37c6ae-d611-4422-8a91-0826a20c867c",
   "metadata": {},
   "outputs": [
    {
     "name": "stdout",
     "output_type": "stream",
     "text": [
      "[3 0 1]\n"
     ]
    }
   ],
   "source": [
    "z=np.argmax(X,axis=0) #axis=0 stands for column direction\n",
    "print(z)"
   ]
  },
  {
   "cell_type": "code",
   "execution_count": 195,
   "id": "d7dc210e-3645-4188-a73f-ef181059079e",
   "metadata": {},
   "outputs": [
    {
     "name": "stdout",
     "output_type": "stream",
     "text": [
      "[ True  True False  True]\n"
     ]
    }
   ],
   "source": [
    "y=np.array([1,2,1,0])\n",
    "t=np.array([1,2,0,0])\n",
    "print(y==t)"
   ]
  },
  {
   "cell_type": "code",
   "execution_count": 197,
   "id": "1dcab923-a6b0-4fb0-ac1d-edd7bbb37880",
   "metadata": {},
   "outputs": [
    {
     "data": {
      "text/plain": [
       "3"
      ]
     },
     "execution_count": 197,
     "metadata": {},
     "output_type": "execute_result"
    }
   ],
   "source": [
    "np.sum(y==t)"
   ]
  },
  {
   "cell_type": "code",
   "execution_count": null,
   "id": "20a9a57d-f8a0-44c1-b58a-76788e9bb792",
   "metadata": {},
   "outputs": [],
   "source": []
  }
 ],
 "metadata": {
  "kernelspec": {
   "display_name": "Python 3 (ipykernel)",
   "language": "python",
   "name": "python3"
  },
  "language_info": {
   "codemirror_mode": {
    "name": "ipython",
    "version": 3
   },
   "file_extension": ".py",
   "mimetype": "text/x-python",
   "name": "python",
   "nbconvert_exporter": "python",
   "pygments_lexer": "ipython3",
   "version": "3.12.7"
  }
 },
 "nbformat": 4,
 "nbformat_minor": 5
}
